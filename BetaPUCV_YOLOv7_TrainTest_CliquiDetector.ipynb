{
  "nbformat": 4,
  "nbformat_minor": 0,
  "metadata": {
    "colab": {
      "provenance": []
    },
    "kernelspec": {
      "name": "python3",
      "display_name": "Python 3"
    },
    "language_info": {
      "name": "python"
    },
    "accelerator": "GPU",
    "gpuClass": "standard"
  },
  "cells": [
    {
      "cell_type": "markdown",
      "source": [
        "# Prueba y entrenamiento YOLOv7"
      ],
      "metadata": {
        "id": "qwvNVRZd00Uk"
      }
    },
    {
      "cell_type": "code",
      "execution_count": null,
      "metadata": {
        "id": "_0SwbUwSei5q"
      },
      "outputs": [],
      "source": [
        "#@title Descarga/instalación YOLOv7\n",
        "\n",
        "!git clone https://github.com/WongKinYiu/yolov7\n",
        "%cd yolov7\n",
        "!pip install -r requirements.txt"
      ]
    },
    {
      "cell_type": "code",
      "execution_count": null,
      "metadata": {
        "id": "Fj9YcAnsT4B_",
        "cellView": "form"
      },
      "outputs": [],
      "source": [
        "#@title Imports\n",
        "\n",
        "from IPython.display import display, Javascript, Image\n",
        "from google.colab.output import eval_js\n",
        "from base64 import b64decode, b64encode\n",
        "import cv2\n",
        "import numpy as np\n",
        "import PIL\n",
        "import io\n",
        "import html\n",
        "import time\n",
        "import os.path\n",
        "from os import path\n",
        "\n",
        "import matplotlib.pyplot as plt"
      ]
    },
    {
      "cell_type": "code",
      "source": [
        "#Crear carpeta para guardar pesos\n",
        "\n",
        "if path.exists('/content/yolov7/weights') == False:\n",
        "  os.mkdir('/content/yolov7/weights')\n",
        "\n",
        "WEIGHTS_PATH = '/content/yolov7/weights/'"
      ],
      "metadata": {
        "id": "2TssiEtifb8p"
      },
      "execution_count": null,
      "outputs": []
    },
    {
      "cell_type": "code",
      "source": [
        "# Descarga pesos del repo oficial\n",
        "!wget https://github.com/WongKinYiu/yolov7/releases/download/v0.1/yolov7-w6.pt -P /content/yolov7/weights"
      ],
      "metadata": {
        "id": "I0wnIcrTfLBL"
      },
      "execution_count": null,
      "outputs": []
    },
    {
      "cell_type": "code",
      "source": [
        "#@title Pesos disponibles\n",
        "#Available weights\n",
        "%ls $WEIGHTS_PATH\n",
        "WEIGHT = 'yolov7-w6.pt'\n",
        "used_weight = os.path.join(WEIGHTS_PATH, WEIGHT)"
      ],
      "metadata": {
        "id": "rWT9z0teguNH",
        "cellView": "form"
      },
      "execution_count": null,
      "outputs": []
    },
    {
      "cell_type": "code",
      "source": [
        "#@title Opcional: probar modelo descargado\n",
        "#Pruebas a peso descargado\n",
        "!python test.py --data data/coco.yaml --img 640 --batch 32 --conf 0.001 --iou 0.65 --device 0 --weights $used_weight --name yolov7_640_val"
      ],
      "metadata": {
        "id": "6dATHyZijGkx"
      },
      "execution_count": null,
      "outputs": []
    },
    {
      "cell_type": "code",
      "source": [
        "from google.colab import drive\n",
        "drive.mount('/content/drive')"
      ],
      "metadata": {
        "id": "aaouP7TslkD4"
      },
      "execution_count": null,
      "outputs": []
    },
    {
      "cell_type": "code",
      "source": [
        "#@title Funciones de ayuda\n",
        "\n",
        "# js -> OpenCV\n",
        "def js_to_image(js_reply):\n",
        "  \"\"\"\n",
        "  Params:\n",
        "          js_reply: JavaScript object containing image from webcam\n",
        "  Returns:\n",
        "          img: OpenCV BGR image\n",
        "  \"\"\"\n",
        "  # decode base64 image\n",
        "  image_bytes = b64decode(js_reply.split(',')[1])\n",
        "  # convert bytes to numpy array\n",
        "  jpg_as_np = np.frombuffer(image_bytes, dtype=np.uint8)\n",
        "  # decode numpy array into OpenCV BGR image\n",
        "  img = cv2.imdecode(jpg_as_np, flags=1)\n",
        "\n",
        "  return img\n",
        "\n",
        "# OpenCV rectangulo -> byte string para video\n",
        "def bbox_to_bytes(bbox_array):\n",
        "  \"\"\"\n",
        "  Params:\n",
        "          bbox_array: Numpy array (pixels) containing rectangle to overlay on video stream.\n",
        "  Returns:\n",
        "        bytes: Base64 image byte string\n",
        "  \"\"\"\n",
        "  # convert array into PIL image\n",
        "  bbox_PIL = PIL.Image.fromarray(bbox_array, 'RGBA')\n",
        "  iobuf = io.BytesIO()\n",
        "  # format bbox into png for return\n",
        "  bbox_PIL.save(iobuf, format='png')\n",
        "  # format return string\n",
        "  bbox_bytes = 'data:image/png;base64,{}'.format((str(b64encode(iobuf.getvalue()), 'utf-8')))\n",
        "\n",
        "  return bbox_bytes\n",
        "\n",
        "# initialize the Haar Cascade face detection model\n",
        "face_cascade = cv2.CascadeClassifier(cv2.samples.findFile(cv2.data.haarcascades + 'haarcascade_frontalface_default.xml'))"
      ],
      "metadata": {
        "id": "KA0j5XuXnHP8"
      },
      "execution_count": null,
      "outputs": []
    },
    {
      "cell_type": "code",
      "source": [
        "#@title Obteniendo imgs desde cámara\n",
        "def take_photo(filename='photo.jpg', quality=0.8):\n",
        "  js = Javascript('''\n",
        "    async function takePhoto(quality) {\n",
        "      const div = document.createElement('div');\n",
        "      const capture = document.createElement('button');\n",
        "      capture.textContent = 'Tomar foto';\n",
        "      div.appendChild(capture);\n",
        "\n",
        "      const video = document.createElement('video');\n",
        "      video.style.display = 'block';\n",
        "      const stream = await navigator.mediaDevices.getUserMedia({video: true});\n",
        "\n",
        "      document.body.appendChild(div);\n",
        "      div.appendChild(video);\n",
        "      video.srcObject = stream;\n",
        "      await video.play();\n",
        "\n",
        "      // Resize the output to fit the video element.\n",
        "      google.colab.output.setIframeHeight(document.documentElement.scrollHeight, true);\n",
        "\n",
        "      // Wait for Capture to be clicked.\n",
        "      await new Promise((resolve) => capture.onclick = resolve);\n",
        "\n",
        "      const canvas = document.createElement('canvas');\n",
        "      canvas.width = video.videoWidth;\n",
        "      canvas.height = video.videoHeight;\n",
        "      canvas.getContext('2d').drawImage(video, 0, 0);\n",
        "      stream.getVideoTracks()[0].stop();\n",
        "      div.remove();\n",
        "      return canvas.toDataURL('image/jpeg', quality);\n",
        "    }\n",
        "    ''')\n",
        "  display(js)\n",
        "\n",
        "  # get photo data\n",
        "  data = eval_js('takePhoto({})'.format(quality))\n",
        "  # get OpenCV format image\n",
        "  img = js_to_image(data) \n",
        "  # grayscale img\n",
        "  gray = cv2.cvtColor(img, cv2.COLOR_RGB2GRAY)\n",
        "  print(gray.shape)\n",
        "  # get face bounding box coordinates using Haar Cascade\n",
        "  faces = face_cascade.detectMultiScale(gray)\n",
        "  # draw face bounding box on image\n",
        "  #for (x,y,w,h) in faces:\n",
        "   #   img = cv2.rectangle(img,(x,y),(x+w,y+h),(255,0,0),2)\n",
        "  # save image\n",
        "  cv2.imwrite(filename, img)\n",
        "\n",
        "  return filename"
      ],
      "metadata": {
        "id": "khyaAN_FnMQh"
      },
      "execution_count": null,
      "outputs": []
    },
    {
      "cell_type": "code",
      "source": [
        "#@title Sacar foto!\n",
        "\n",
        "try:\n",
        "  image = take_photo('foto.jpg')\n",
        "  print('Guardado como: {}'.format(image))\n",
        "  \n",
        "  # Show the image which was just taken.\n",
        "  display(Image(image))\n",
        "except Exception as err:\n",
        "  # Errors will be thrown if the user does not have a webcam or if they do not\n",
        "  # grant the page permission to access it.\n",
        "  print(str(err))"
      ],
      "metadata": {
        "id": "C-7QBz7DnOgu"
      },
      "execution_count": null,
      "outputs": []
    },
    {
      "cell_type": "code",
      "source": [
        "#@title Inferencia con modelo preentrenado\n",
        "img = os.path.join('/content/yolov7','foto.jpg')\n",
        "project_name = 'testingPretrained'"
      ],
      "metadata": {
        "id": "trW0F6GRno4S"
      },
      "execution_count": null,
      "outputs": []
    },
    {
      "cell_type": "code",
      "source": [
        "#detector\n",
        "!python detect.py --weights $used_weight --conf 0.25 --img-size 640 --source $img --project $project_name"
      ],
      "metadata": {
        "id": "q7hWCeRqaANM"
      },
      "execution_count": null,
      "outputs": []
    },
    {
      "cell_type": "code",
      "source": [
        "detected_img = os.path.join('/content/yolov7/',project_name, 'exp/foto.jpg')\n",
        "display(Image(detected_img))"
      ],
      "metadata": {
        "id": "1gHgue1QoljH"
      },
      "execution_count": null,
      "outputs": []
    },
    {
      "cell_type": "markdown",
      "source": [
        "# Entrenando para detectar Cliqui"
      ],
      "metadata": {
        "id": "fWdSAZMDo7lV"
      }
    },
    {
      "cell_type": "code",
      "source": [
        "#Cambiar a carpeta con imagenes\n",
        "CLIQUI_PATH = '/content/drive/MyDrive/BetaPUCV2023/CliquiDatabase'"
      ],
      "metadata": {
        "id": "VpkEM_v_o5kq"
      },
      "execution_count": null,
      "outputs": []
    },
    {
      "cell_type": "code",
      "source": [
        "!touch > '/content/yolov7/data/custom.yaml'"
      ],
      "metadata": {
        "id": "mtn8WFwdqxqW"
      },
      "execution_count": null,
      "outputs": []
    },
    {
      "cell_type": "code",
      "source": [
        "train = \"train: \"+ CLIQUI_PATH + \"/train/\"\n",
        "val = \"val: \"+ CLIQUI_PATH + \"/valid/\"\n",
        "test = \"test: \"+ CLIQUI_PATH + \"/test/\""
      ],
      "metadata": {
        "id": "7IKPK6Kbsh4i"
      },
      "execution_count": null,
      "outputs": []
    },
    {
      "cell_type": "code",
      "source": [
        "Lines = [train, val, test, \"nc: 1\", \"names: ['cliqui'] \"]"
      ],
      "metadata": {
        "id": "e0qJMMo0rf8U"
      },
      "execution_count": null,
      "outputs": []
    },
    {
      "cell_type": "code",
      "source": [
        "with open('/content/yolov7/data/custom.yaml', 'w') as writefile:\n",
        "    for line in Lines:\n",
        "        writefile.write(line+'\\n')"
      ],
      "metadata": {
        "id": "os3TH1IdqOoU"
      },
      "execution_count": null,
      "outputs": []
    },
    {
      "cell_type": "code",
      "source": [
        "#@title Nombre del proyecto\n",
        "  name = 'yolov7-cliqui'"
      ],
      "metadata": {
        "id": "jdFV6FPsU5nR"
      },
      "execution_count": null,
      "outputs": []
    },
    {
      "cell_type": "code",
      "source": [
        "#entrenar!\n",
        "!python train.py --workers 1 --device 0 --batch-size 32 --epochs 50 --img 640 640 --hyp data/hyp.scratch.custom.yaml --name $name --weights $used_weight --data data/custom.yaml"
      ],
      "metadata": {
        "id": "Cr8VUA0upHWS"
      },
      "execution_count": null,
      "outputs": []
    },
    {
      "cell_type": "code",
      "source": [
        "result_weight = os.path.join('/content/yolov7/runs/train',name, 'weights/best.pt')"
      ],
      "metadata": {
        "id": "6bSA9xFIuGas"
      },
      "execution_count": null,
      "outputs": []
    },
    {
      "cell_type": "code",
      "source": [
        "!python test.py --data data/custom.yaml --img 640 --batch 32 --conf 0.001 --iou 0.65 --device 0 --device 0 --weights $result_weight --name $name"
      ],
      "metadata": {
        "id": "hU_kMJ6fTjon"
      },
      "execution_count": null,
      "outputs": []
    },
    {
      "cell_type": "code",
      "source": [
        "#@title Sacar foto!\n",
        "\n",
        "try:\n",
        "  image = take_photo('foto_cliqui.jpg')\n",
        "  print('Guardado como: {}'.format(image))\n",
        "  \n",
        "  # Show the image which was just taken.\n",
        "  display(Image(image))\n",
        "except Exception as err:\n",
        "  # Errors will be thrown if the user does not have a webcam or if they do not\n",
        "  # grant the page permission to access it.\n",
        "  print(str(err))"
      ],
      "metadata": {
        "cellView": "form",
        "id": "vnZGMRxxvS5s"
      },
      "execution_count": null,
      "outputs": []
    },
    {
      "cell_type": "code",
      "source": [
        "img_cliqui = os.path.join('/content/yolov7','foto_cliqui.jpg')"
      ],
      "metadata": {
        "id": "8jE-viXSvkxV"
      },
      "execution_count": null,
      "outputs": []
    },
    {
      "cell_type": "code",
      "source": [
        "#@title Deteccion sobre imagen webcam\n",
        "!python detect.py --weights $result_weight --conf 0.25 --img-size 640 --source $img_cliqui --project $name"
      ],
      "metadata": {
        "id": "m2AUJZYjvcAP"
      },
      "execution_count": null,
      "outputs": []
    },
    {
      "cell_type": "code",
      "source": [
        "#@title Resultado detección:\n",
        "img_detected = '/content/yolov7/' + name + \"/exp/foto_cliqui.jpg\"\n",
        "display(Image(img_detected))"
      ],
      "metadata": {
        "id": "vH_0i4IhwRxP"
      },
      "execution_count": null,
      "outputs": []
    }
  ]
}