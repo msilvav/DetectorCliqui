{
  "nbformat": 4,
  "nbformat_minor": 0,
  "metadata": {
    "colab": {
      "provenance": [],
      "toc_visible": true
    },
    "kernelspec": {
      "name": "python3",
      "display_name": "Python 3"
    },
    "language_info": {
      "name": "python"
    },
    "accelerator": "GPU",
    "gpuClass": "standard"
  },
  "cells": [
    {
      "cell_type": "markdown",
      "source": [
        "# Usando IA para etectar imagenes 💻 🧠\n",
        "\n",
        "### Pontificia Universidad Católica de Valparaíso\n",
        "\n",
        "![beta.png](data:image/png;base64,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)\n",
        "\n",
        "\n",
        "Notas: \n",
        "\n",
        "1.   Si deseas seguir experimentando, recarga el archivo en: Entorno de ejecución -> Reiniciar entorno de ejecución\n",
        "\n",
        "2.   Los resultados no quedan guardados. Para guardar una imagen da click derecho en la misma y 'descargar imagen'.\n",
        "\n",
        "3.   Algunas actividades de este módulo solicitan acceso a tu cámara web. Asegurate de tener habilitado esto en tu navegador para poder acceder a todos los experimentos!"
      ],
      "metadata": {
        "id": "WXmT1fec7cbO"
      }
    },
    {
      "cell_type": "markdown",
      "source": [
        "## Instalación y configuración"
      ],
      "metadata": {
        "id": "zjzwzvdb88Ug"
      }
    },
    {
      "cell_type": "code",
      "source": [
        "#@title Descarga/instalación YOLOv7\n",
        "\n",
        "!git clone https://github.com/WongKinYiu/yolov7\n",
        "%cd yolov7\n",
        "!pip install -q -r requirements.txt"
      ],
      "metadata": {
        "id": "4083ot0P7OUH"
      },
      "execution_count": null,
      "outputs": []
    },
    {
      "cell_type": "code",
      "source": [
        "#@title Imports\n",
        "\n",
        "from IPython.display import display, Javascript, Image\n",
        "from google.colab.output import eval_js\n",
        "from base64 import b64decode, b64encode\n",
        "import cv2\n",
        "import numpy as np\n",
        "import PIL\n",
        "import io\n",
        "import html\n",
        "import time\n",
        "import os.path\n",
        "from os import path\n",
        "\n",
        "import matplotlib.pyplot as plt"
      ],
      "metadata": {
        "id": "KBscgY17_fJI"
      },
      "execution_count": null,
      "outputs": []
    },
    {
      "cell_type": "code",
      "source": [
        "#@title Crear carpeta para guardar pesos\n",
        "\n",
        "if path.exists('/content/yolov7/weights') == False:\n",
        "  os.mkdir('/content/yolov7/weights')\n",
        "\n",
        "WEIGHTS_PATH = '/content/yolov7/weights/'"
      ],
      "metadata": {
        "id": "LWseipQT7R2q"
      },
      "execution_count": null,
      "outputs": []
    },
    {
      "cell_type": "code",
      "execution_count": null,
      "metadata": {
        "id": "0MFBy_MT3Cfw"
      },
      "outputs": [],
      "source": [
        "#@title Descarga pesos entrenados para esta experiencia\n",
        "#peso de detector cliqui\n",
        "!wget --load-cookies /tmp/cookies.txt \"https://docs.google.com/uc?export=download&confirm=$(wget --quiet --save-cookies /tmp/cookies.txt --keep-session-cookies --no-check-certificate 'https://docs.google.com/uc?export=download&id=1BvLSdBhE5hSgHnMflbdcYc5sQ8eDM2DS' -O- | sed -rn 's/.*confirm=([0-9A-Za-z_]+).*/\\1\\n/p')&id=1BvLSdBhE5hSgHnMflbdcYc5sQ8eDM2DS\" -O best.pt && rm -rf /tmp/cookies.txt \n",
        "!mv best.pt /content/yolov7/weights\n",
        "\n",
        "#peso modelo pre-entrenado\n",
        "!wget https://github.com/WongKinYiu/yolov7/releases/download/v0.1/yolov7-w6.pt -P /content/yolov7/weights"
      ]
    },
    {
      "cell_type": "code",
      "source": [
        "#@title Funciones de ayuda\n",
        "\n",
        "# js -> OpenCV\n",
        "def js_to_image(js_reply):\n",
        "  \"\"\"\n",
        "  Params:\n",
        "          js_reply: JavaScript object containing image from webcam\n",
        "  Returns:\n",
        "          img: OpenCV BGR image\n",
        "  \"\"\"\n",
        "  # decode base64 image\n",
        "  image_bytes = b64decode(js_reply.split(',')[1])\n",
        "  # convert bytes to numpy array\n",
        "  jpg_as_np = np.frombuffer(image_bytes, dtype=np.uint8)\n",
        "  # decode numpy array into OpenCV BGR image\n",
        "  img = cv2.imdecode(jpg_as_np, flags=1)\n",
        "\n",
        "  return img\n",
        "\n",
        "# OpenCV rectangulo -> byte string para video\n",
        "def bbox_to_bytes(bbox_array):\n",
        "  \"\"\"\n",
        "  Params:\n",
        "          bbox_array: Numpy array (pixels) containing rectangle to overlay on video stream.\n",
        "  Returns:\n",
        "        bytes: Base64 image byte string\n",
        "  \"\"\"\n",
        "  # convert array into PIL image\n",
        "  bbox_PIL = PIL.Image.fromarray(bbox_array, 'RGBA')\n",
        "  iobuf = io.BytesIO()\n",
        "  # format bbox into png for return\n",
        "  bbox_PIL.save(iobuf, format='png')\n",
        "  # format return string\n",
        "  bbox_bytes = 'data:image/png;base64,{}'.format((str(b64encode(iobuf.getvalue()), 'utf-8')))\n",
        "\n",
        "  return bbox_bytes\n",
        "\n",
        "# initialize the Haar Cascade face detection model\n",
        "face_cascade = cv2.CascadeClassifier(cv2.samples.findFile(cv2.data.haarcascades + 'haarcascade_frontalface_default.xml'))"
      ],
      "metadata": {
        "cellView": "form",
        "id": "ESsaXMqL83z1"
      },
      "execution_count": null,
      "outputs": []
    },
    {
      "cell_type": "code",
      "source": [
        "#@title Obteniendo imgs desde cámara\n",
        "def take_photo(filename='photo.jpg', quality=0.8):\n",
        "  js = Javascript('''\n",
        "    async function takePhoto(quality) {\n",
        "      const div = document.createElement('div');\n",
        "      const capture = document.createElement('button');\n",
        "      capture.textContent = 'Tomar foto';\n",
        "      div.appendChild(capture);\n",
        "\n",
        "      const video = document.createElement('video');\n",
        "      video.style.display = 'block';\n",
        "      const stream = await navigator.mediaDevices.getUserMedia({video: true});\n",
        "\n",
        "      document.body.appendChild(div);\n",
        "      div.appendChild(video);\n",
        "      video.srcObject = stream;\n",
        "      await video.play();\n",
        "\n",
        "      // Resize the output to fit the video element.\n",
        "      google.colab.output.setIframeHeight(document.documentElement.scrollHeight, true);\n",
        "\n",
        "      // Wait for Capture to be clicked.\n",
        "      await new Promise((resolve) => capture.onclick = resolve);\n",
        "\n",
        "      const canvas = document.createElement('canvas');\n",
        "      canvas.width = video.videoWidth;\n",
        "      canvas.height = video.videoHeight;\n",
        "      canvas.getContext('2d').drawImage(video, 0, 0);\n",
        "      stream.getVideoTracks()[0].stop();\n",
        "      div.remove();\n",
        "      return canvas.toDataURL('image/jpeg', quality);\n",
        "    }\n",
        "    ''')\n",
        "  display(js)\n",
        "\n",
        "  # get photo data\n",
        "  data = eval_js('takePhoto({})'.format(quality))\n",
        "  # get OpenCV format image\n",
        "  img = js_to_image(data) \n",
        "  # grayscale img\n",
        "  gray = cv2.cvtColor(img, cv2.COLOR_RGB2GRAY)\n",
        "  print(gray.shape)\n",
        "  # get face bounding box coordinates using Haar Cascade\n",
        "  faces = face_cascade.detectMultiScale(gray)\n",
        "  # draw face bounding box on image\n",
        "  #for (x,y,w,h) in faces:\n",
        "   #   img = cv2.rectangle(img,(x,y),(x+w,y+h),(255,0,0),2)\n",
        "  # save image\n",
        "  cv2.imwrite(filename, img)\n",
        "\n",
        "  return filename"
      ],
      "metadata": {
        "cellView": "form",
        "id": "LYgfTThY86qT"
      },
      "execution_count": null,
      "outputs": []
    },
    {
      "cell_type": "markdown",
      "source": [
        "## Probando modelo pre entrenado:"
      ],
      "metadata": {
        "id": "YgY56aLJ9GTW"
      }
    },
    {
      "cell_type": "code",
      "source": [
        "#@title Sacar foto!\n",
        "\n",
        "try:\n",
        "  image = take_photo('foto.jpg')\n",
        "  print('Guardado como: {}'.format(image))\n",
        "  \n",
        "  # Show the image which was just taken.\n",
        "  display(Image(image))\n",
        "except Exception as err:\n",
        "  # Errors will be thrown if the user does not have a webcam or if they do not\n",
        "  # grant the page permission to access it.\n",
        "  print(str(err))"
      ],
      "metadata": {
        "cellView": "form",
        "id": "8CI1_YD99Pi0"
      },
      "execution_count": null,
      "outputs": []
    },
    {
      "cell_type": "code",
      "source": [
        "#@title Inferencia con modelo preentrenado\n",
        "img = os.path.join('/content/yolov7','foto.jpg')\n",
        "project_name = 'testingPretrained'\n",
        "pretrained_weight = 'yolov7-w6.pt'\n",
        "used_weight = os.path.join(WEIGHTS_PATH, pretrained_weight)"
      ],
      "metadata": {
        "id": "U5h2RHom9UgW"
      },
      "execution_count": null,
      "outputs": []
    },
    {
      "cell_type": "code",
      "source": [
        "#detector\n",
        "!python detect.py --weights $used_weight --conf 0.25 --img-size 640 --source $img --project $project_name"
      ],
      "metadata": {
        "id": "1lXovSux9XAq"
      },
      "execution_count": null,
      "outputs": []
    },
    {
      "cell_type": "code",
      "source": [
        "#@title Resultado: \n",
        "detected_img = os.path.join('/content/yolov7/',project_name, 'exp/foto.jpg')\n",
        "display(Image(detected_img))"
      ],
      "metadata": {
        "id": "x87CnKui9ar_"
      },
      "execution_count": null,
      "outputs": []
    },
    {
      "cell_type": "markdown",
      "source": [
        "## Probando modelo entrenado para Cliqui"
      ],
      "metadata": {
        "id": "_A_Vzrwl9h-e"
      }
    },
    {
      "cell_type": "code",
      "source": [
        "#@title Sacar foto!\n",
        "\n",
        "try:\n",
        "  image = take_photo('foto_cliqui.jpg')\n",
        "  print('Guardado como: {}'.format(image))\n",
        "  \n",
        "  # Show the image which was just taken.\n",
        "  display(Image(image))\n",
        "except Exception as err:\n",
        "  # Errors will be thrown if the user does not have a webcam or if they do not\n",
        "  # grant the page permission to access it.\n",
        "  print(str(err))"
      ],
      "metadata": {
        "cellView": "form",
        "id": "a5Ug5Y-n9u7w"
      },
      "execution_count": null,
      "outputs": []
    },
    {
      "cell_type": "code",
      "source": [
        "#@title Inferencia con modelo preentrenado para Cliqui\n",
        "name = 'yolov7-cliqui'\n",
        "best_weight = 'best.pt'\n",
        "cliqui_weight = os.path.join(WEIGHTS_PATH, best_weight)\n",
        "img_cliqui = os.path.join('/content/yolov7','foto_cliqui.jpg')"
      ],
      "metadata": {
        "id": "LLaMyZtT9yVv"
      },
      "execution_count": null,
      "outputs": []
    },
    {
      "cell_type": "code",
      "source": [
        "#detecor\n",
        "!python detect.py --weights $cliqui_weight -conf-thres 0.2 --img-size 640 --source $img_cliqui --project $name"
      ],
      "metadata": {
        "id": "l-1aOTGy-CNL"
      },
      "execution_count": null,
      "outputs": []
    },
    {
      "cell_type": "code",
      "source": [
        "#@title Resultado detección:\n",
        "img_detected = '/content/yolov7/' + name + \"/exp/foto_cliqui.jpg\"\n",
        "display(Image(img_detected))"
      ],
      "metadata": {
        "id": "2AhiwI61_OYZ"
      },
      "execution_count": null,
      "outputs": []
    }
  ]
}